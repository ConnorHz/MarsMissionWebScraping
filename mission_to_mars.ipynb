{
 "metadata": {
  "language_info": {
   "codemirror_mode": {
    "name": "ipython",
    "version": 3
   },
   "file_extension": ".py",
   "mimetype": "text/x-python",
   "name": "python",
   "nbconvert_exporter": "python",
   "pygments_lexer": "ipython3",
   "version": "3.6.12-final"
  },
  "orig_nbformat": 2,
  "kernelspec": {
   "name": "python3",
   "display_name": "Python 3.6.12 64-bit ('PythonData': conda)",
   "metadata": {
    "interpreter": {
     "hash": "b3b821950fed1514dbce0e0b0307ca89830ad4ea6ad4dc85989b5afd5855c31b"
    }
   }
  }
 },
 "nbformat": 4,
 "nbformat_minor": 2,
 "cells": [
  {
   "cell_type": "code",
   "execution_count": null,
   "metadata": {},
   "outputs": [],
   "source": [
    "from splinter import Browser\n",
    "from bs4 import BeautifulSoup as bs\n",
    "import requests as req\n",
    "import pandas as pd"
   ]
  },
  {
   "cell_type": "code",
   "execution_count": null,
   "metadata": {},
   "outputs": [],
   "source": [
    "executable_path = {'executable_path': 'C:\\chromedriver_win32\\chromedriver.exe'}\n",
    "browser = Browser('chrome', **executable_path, headless=False)\n",
    "\n",
    "url = \"https://mars.nasa.gov/news\"\n",
    "\n",
    "browser.visit(url)\n",
    "\n",
    "html = browser.html\n",
    "soup = bs(html, 'lxml')\n",
    "\n",
    "articles = soup.find_all(\"li\", class_=\"slide\")\n",
    "\n",
    "browser.quit()\n",
    "\n",
    "article_title = articles[0].find(\"div\", class_=\"content_title\").text\n",
    "article_teaser = articles[0].find(\"div\", class_=\"article_teaser_body\").text\n",
    "print(article_title)\n",
    "print(article_teaser)"
   ]
  },
  {
   "cell_type": "code",
   "execution_count": null,
   "metadata": {},
   "outputs": [],
   "source": [
    "executable_path = {'executable_path': 'C:\\chromedriver_win32\\chromedriver.exe'}\n",
    "browser = Browser('chrome', **executable_path, headless=False)\n",
    "\n",
    "url_start = 'https://www.jpl.nasa.gov'\n",
    "url_end = '/spaceimages/?search=&category=Mars'\n",
    "\n",
    "url = url_start + url_end\n",
    "\n",
    "browser.visit(url)\n",
    "\n",
    "html = browser.html\n",
    "soup = bs(html, 'lxml')\n",
    "\n",
    "browser.quit()\n",
    "\n",
    "image_id = soup.find(\"div\", class_=\"carousel_items\").find(\"article\")[\"style\"].split(\"/\")[-1].split(\"-\")[0]\n",
    "featured_image_url = f'https://www.jpl.nasa.gov/spaceimages/images/mediumsize/{image_id}_ip.jpg'\n",
    "print(featured_image_url)"
   ]
  },
  {
   "cell_type": "code",
   "execution_count": null,
   "metadata": {},
   "outputs": [],
   "source": [
    "url = 'https://space-facts.com/mars/'\n",
    "tables = pd.read_html(url)\n",
    "soup = bs(tables[0].to_html(index=False), 'lxml')\n",
    "\n",
    "tbody = soup.find('tbody').html\n",
    "table = soup.find('table')\n",
    "\n",
    "# Remove table head\n",
    "for thead in table.find_all('thead'):\n",
    "    thead.replace_with('')\n",
    "\n",
    "table_html = str(table.encode())"
   ]
  },
  {
   "cell_type": "code",
   "execution_count": null,
   "metadata": {},
   "outputs": [],
   "source": [
    "hemisphere_image_urls = []\n",
    "\n",
    "url_start = 'https://astrogeology.usgs.gov'\n",
    "url_end = '/search/results?q=hemisphere+enhanced&k1=target&v1=Mars'\n",
    "\n",
    "url = url_start + url_end\n",
    "\n",
    "source = req.get(url).text\n",
    "soup = bs(html, 'lxml')\n",
    "\n",
    "links = soup.find(\"div\", id='product-section').find_all(\"a\")\n",
    "\n",
    "for x in links:\n",
    "    if x.text != \"\":\n",
    "        url = url_start + x['href']\n",
    "        source = req.get(url_start+x['href']).text\n",
    "        mars_page = bs(source, 'lxml')\n",
    "        hemisphere_image_urls.append({\"title\": x.text.rsplit(\" \", 1)[0], \"img_url\": mars_page.find(\"div\", class_=\"downloads\").find(\"li\").find(\"a\")[\"href\"]})"
   ]
  }
 ]
}