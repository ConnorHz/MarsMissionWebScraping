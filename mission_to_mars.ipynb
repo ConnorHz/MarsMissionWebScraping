{
 "metadata": {
  "language_info": {
   "codemirror_mode": {
    "name": "ipython",
    "version": 3
   },
   "file_extension": ".py",
   "mimetype": "text/x-python",
   "name": "python",
   "nbconvert_exporter": "python",
   "pygments_lexer": "ipython3",
   "version": "3.6.12-final"
  },
  "orig_nbformat": 2,
  "kernelspec": {
   "name": "python3",
   "display_name": "Python 3.6.12 64-bit ('PythonData': conda)",
   "metadata": {
    "interpreter": {
     "hash": "b3b821950fed1514dbce0e0b0307ca89830ad4ea6ad4dc85989b5afd5855c31b"
    }
   }
  }
 },
 "nbformat": 4,
 "nbformat_minor": 2,
 "cells": [
  {
   "cell_type": "code",
   "execution_count": 22,
   "metadata": {},
   "outputs": [
    {
     "output_type": "stream",
     "name": "stdout",
     "text": [
      "Collecting splinter\n  Using cached splinter-0.14.0-py3-none-any.whl (36 kB)\nRequirement already satisfied: six in c:\\users\\connor\\anaconda3\\lib\\site-packages (from splinter) (1.15.0)\nCollecting selenium>=3.141.0\n  Using cached selenium-3.141.0-py2.py3-none-any.whl (904 kB)\nRequirement already satisfied: urllib3 in c:\\users\\connor\\anaconda3\\lib\\site-packages (from selenium>=3.141.0->splinter) (1.25.9)\nInstalling collected packages: selenium, splinter\nSuccessfully installed selenium-3.141.0 splinter-0.14.0\n"
     ]
    }
   ],
   "source": [
    "!pip install splinter"
   ]
  },
  {
   "cell_type": "code",
   "execution_count": 23,
   "metadata": {},
   "outputs": [],
   "source": [
    "from splinter import Browser\n",
    "from bs4 import BeautifulSoup as bs"
   ]
  },
  {
   "cell_type": "code",
   "execution_count": 30,
   "metadata": {},
   "outputs": [],
   "source": [
    "executable_path = {'executable_path': 'C:\\chromedriver_win32\\chromedriver.exe'}\n",
    "browser = Browser('chrome', **executable_path, headless=False)\n",
    "\n",
    "url = \"https://mars.nasa.gov/news\"\n",
    "\n",
    "browser.visit(url)\n",
    "\n",
    "html = browser.html\n",
    "soup = bs(html, 'lxml')\n",
    "\n",
    "articles = soup.find_all(\"li\", class_=\"slide\")\n",
    "\n",
    "browser.quit()"
   ]
  },
  {
   "cell_type": "code",
   "execution_count": 38,
   "metadata": {},
   "outputs": [
    {
     "output_type": "stream",
     "name": "stdout",
     "text": [
      "From JPL's Mailroom to Mars and Beyond\nBill Allen has thrived as the mechanical systems design lead for three Mars rover missions, but he got his start as a teenager sorting letters for the NASA center.\n"
     ]
    }
   ],
   "source": [
    "article_title = articles[0].find(\"div\", class_=\"content_title\").text\n",
    "article_teaser = articles[0].find(\"div\", class_=\"article_teaser_body\").text\n",
    "print(article_title)\n",
    "print(article_teaser)"
   ]
  }
 ]
}